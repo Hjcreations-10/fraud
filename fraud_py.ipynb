{
  "cells": [
    {
      "cell_type": "markdown",
      "metadata": {
        "id": "view-in-github",
        "colab_type": "text"
      },
      "source": [
        "<a href=\"https://colab.research.google.com/github/Hjcreations-10/fraud/blob/main/fraud_py.ipynb\" target=\"_parent\"><img src=\"https://colab.research.google.com/assets/colab-badge.svg\" alt=\"Open In Colab\"/></a>"
      ]
    },
    {
      "cell_type": "code",
      "source": [
        "!pip install -q transformers scikit-learn pandas"
      ],
      "metadata": {
        "id": "vyqnyx7M2yLv"
      },
      "execution_count": 1,
      "outputs": []
    },
    {
      "cell_type": "markdown",
      "source": [
        "detecting potentially scammy or misleading text using a sentiment analysis model"
      ],
      "metadata": {
        "id": "qlr1r1q-Pj2-"
      }
    },
    {
      "cell_type": "code",
      "source": [
        "from transformers import pipeline\n",
        "import pandas as pd\n",
        "\n",
        "# Sample data\n",
        "texts = [\n",
        "    \"Invest now for guaranteed returns!\",\n",
        "    \"Company reports audited financials\",\n",
        "    \"Join our crypto pump group—easy money!\"\n",
        "]\n",
        "\n",
        "# Load BERT sentiment pipeline\n",
        "classifier = pipeline(\"text-classification\", model=\"distilbert-base-uncased-finetuned-sst-2-english\")\n",
        "\n",
        "# Predict scam likelihood (simplified as negative sentiment proxy)\n",
        "results = [classifier(text)[0] for text in texts]\n",
        "for text, res in zip(texts, results):\n",
        "    print(f\"Text: {text}\\n→ Label: {res['label']}, Score: {res['score']:.2f}\\n\")"
      ],
      "metadata": {
        "colab": {
          "base_uri": "https://localhost:8080/"
        },
        "id": "OZMQh15QP_RK",
        "outputId": "fa48dd44-038c-4a1b-df58-dd02837959de"
      },
      "execution_count": 2,
      "outputs": [
        {
          "output_type": "stream",
          "name": "stderr",
          "text": [
            "/usr/local/lib/python3.12/dist-packages/huggingface_hub/utils/_auth.py:94: UserWarning: \n",
            "The secret `HF_TOKEN` does not exist in your Colab secrets.\n",
            "To authenticate with the Hugging Face Hub, create a token in your settings tab (https://huggingface.co/settings/tokens), set it as secret in your Google Colab and restart your session.\n",
            "You will be able to reuse this secret in all of your notebooks.\n",
            "Please note that authentication is recommended but still optional to access public models or datasets.\n",
            "  warnings.warn(\n",
            "Device set to use cpu\n"
          ]
        },
        {
          "output_type": "stream",
          "name": "stdout",
          "text": [
            "Text: Invest now for guaranteed returns!\n",
            "→ Label: POSITIVE, Score: 0.97\n",
            "\n",
            "Text: Company reports audited financials\n",
            "→ Label: NEGATIVE, Score: 0.89\n",
            "\n",
            "Text: Join our crypto pump group—easy money!\n",
            "→ Label: NEGATIVE, Score: 0.98\n",
            "\n"
          ]
        }
      ]
    },
    {
      "cell_type": "code",
      "source": [
        "from google.colab import files\n",
        "uploaded = files.upload()"
      ],
      "metadata": {
        "colab": {
          "base_uri": "https://localhost:8080/",
          "height": 38
        },
        "id": "ow5TEbYJRhFw",
        "outputId": "e4faae1e-3aae-498d-c953-cfa73d21bb33"
      },
      "execution_count": null,
      "outputs": [
        {
          "output_type": "display_data",
          "data": {
            "text/plain": [
              "<IPython.core.display.HTML object>"
            ],
            "text/html": [
              "\n",
              "     <input type=\"file\" id=\"files-cb661eb1-95f0-485a-b9b9-4fc00b2b2553\" name=\"files[]\" multiple disabled\n",
              "        style=\"border:none\" />\n",
              "     <output id=\"result-cb661eb1-95f0-485a-b9b9-4fc00b2b2553\">\n",
              "      Upload widget is only available when the cell has been executed in the\n",
              "      current browser session. Please rerun this cell to enable.\n",
              "      </output>\n",
              "      <script>// Copyright 2017 Google LLC\n",
              "//\n",
              "// Licensed under the Apache License, Version 2.0 (the \"License\");\n",
              "// you may not use this file except in compliance with the License.\n",
              "// You may obtain a copy of the License at\n",
              "//\n",
              "//      http://www.apache.org/licenses/LICENSE-2.0\n",
              "//\n",
              "// Unless required by applicable law or agreed to in writing, software\n",
              "// distributed under the License is distributed on an \"AS IS\" BASIS,\n",
              "// WITHOUT WARRANTIES OR CONDITIONS OF ANY KIND, either express or implied.\n",
              "// See the License for the specific language governing permissions and\n",
              "// limitations under the License.\n",
              "\n",
              "/**\n",
              " * @fileoverview Helpers for google.colab Python module.\n",
              " */\n",
              "(function(scope) {\n",
              "function span(text, styleAttributes = {}) {\n",
              "  const element = document.createElement('span');\n",
              "  element.textContent = text;\n",
              "  for (const key of Object.keys(styleAttributes)) {\n",
              "    element.style[key] = styleAttributes[key];\n",
              "  }\n",
              "  return element;\n",
              "}\n",
              "\n",
              "// Max number of bytes which will be uploaded at a time.\n",
              "const MAX_PAYLOAD_SIZE = 100 * 1024;\n",
              "\n",
              "function _uploadFiles(inputId, outputId) {\n",
              "  const steps = uploadFilesStep(inputId, outputId);\n",
              "  const outputElement = document.getElementById(outputId);\n",
              "  // Cache steps on the outputElement to make it available for the next call\n",
              "  // to uploadFilesContinue from Python.\n",
              "  outputElement.steps = steps;\n",
              "\n",
              "  return _uploadFilesContinue(outputId);\n",
              "}\n",
              "\n",
              "// This is roughly an async generator (not supported in the browser yet),\n",
              "// where there are multiple asynchronous steps and the Python side is going\n",
              "// to poll for completion of each step.\n",
              "// This uses a Promise to block the python side on completion of each step,\n",
              "// then passes the result of the previous step as the input to the next step.\n",
              "function _uploadFilesContinue(outputId) {\n",
              "  const outputElement = document.getElementById(outputId);\n",
              "  const steps = outputElement.steps;\n",
              "\n",
              "  const next = steps.next(outputElement.lastPromiseValue);\n",
              "  return Promise.resolve(next.value.promise).then((value) => {\n",
              "    // Cache the last promise value to make it available to the next\n",
              "    // step of the generator.\n",
              "    outputElement.lastPromiseValue = value;\n",
              "    return next.value.response;\n",
              "  });\n",
              "}\n",
              "\n",
              "/**\n",
              " * Generator function which is called between each async step of the upload\n",
              " * process.\n",
              " * @param {string} inputId Element ID of the input file picker element.\n",
              " * @param {string} outputId Element ID of the output display.\n",
              " * @return {!Iterable<!Object>} Iterable of next steps.\n",
              " */\n",
              "function* uploadFilesStep(inputId, outputId) {\n",
              "  const inputElement = document.getElementById(inputId);\n",
              "  inputElement.disabled = false;\n",
              "\n",
              "  const outputElement = document.getElementById(outputId);\n",
              "  outputElement.innerHTML = '';\n",
              "\n",
              "  const pickedPromise = new Promise((resolve) => {\n",
              "    inputElement.addEventListener('change', (e) => {\n",
              "      resolve(e.target.files);\n",
              "    });\n",
              "  });\n",
              "\n",
              "  const cancel = document.createElement('button');\n",
              "  inputElement.parentElement.appendChild(cancel);\n",
              "  cancel.textContent = 'Cancel upload';\n",
              "  const cancelPromise = new Promise((resolve) => {\n",
              "    cancel.onclick = () => {\n",
              "      resolve(null);\n",
              "    };\n",
              "  });\n",
              "\n",
              "  // Wait for the user to pick the files.\n",
              "  const files = yield {\n",
              "    promise: Promise.race([pickedPromise, cancelPromise]),\n",
              "    response: {\n",
              "      action: 'starting',\n",
              "    }\n",
              "  };\n",
              "\n",
              "  cancel.remove();\n",
              "\n",
              "  // Disable the input element since further picks are not allowed.\n",
              "  inputElement.disabled = true;\n",
              "\n",
              "  if (!files) {\n",
              "    return {\n",
              "      response: {\n",
              "        action: 'complete',\n",
              "      }\n",
              "    };\n",
              "  }\n",
              "\n",
              "  for (const file of files) {\n",
              "    const li = document.createElement('li');\n",
              "    li.append(span(file.name, {fontWeight: 'bold'}));\n",
              "    li.append(span(\n",
              "        `(${file.type || 'n/a'}) - ${file.size} bytes, ` +\n",
              "        `last modified: ${\n",
              "            file.lastModifiedDate ? file.lastModifiedDate.toLocaleDateString() :\n",
              "                                    'n/a'} - `));\n",
              "    const percent = span('0% done');\n",
              "    li.appendChild(percent);\n",
              "\n",
              "    outputElement.appendChild(li);\n",
              "\n",
              "    const fileDataPromise = new Promise((resolve) => {\n",
              "      const reader = new FileReader();\n",
              "      reader.onload = (e) => {\n",
              "        resolve(e.target.result);\n",
              "      };\n",
              "      reader.readAsArrayBuffer(file);\n",
              "    });\n",
              "    // Wait for the data to be ready.\n",
              "    let fileData = yield {\n",
              "      promise: fileDataPromise,\n",
              "      response: {\n",
              "        action: 'continue',\n",
              "      }\n",
              "    };\n",
              "\n",
              "    // Use a chunked sending to avoid message size limits. See b/62115660.\n",
              "    let position = 0;\n",
              "    do {\n",
              "      const length = Math.min(fileData.byteLength - position, MAX_PAYLOAD_SIZE);\n",
              "      const chunk = new Uint8Array(fileData, position, length);\n",
              "      position += length;\n",
              "\n",
              "      const base64 = btoa(String.fromCharCode.apply(null, chunk));\n",
              "      yield {\n",
              "        response: {\n",
              "          action: 'append',\n",
              "          file: file.name,\n",
              "          data: base64,\n",
              "        },\n",
              "      };\n",
              "\n",
              "      let percentDone = fileData.byteLength === 0 ?\n",
              "          100 :\n",
              "          Math.round((position / fileData.byteLength) * 100);\n",
              "      percent.textContent = `${percentDone}% done`;\n",
              "\n",
              "    } while (position < fileData.byteLength);\n",
              "  }\n",
              "\n",
              "  // All done.\n",
              "  yield {\n",
              "    response: {\n",
              "      action: 'complete',\n",
              "    }\n",
              "  };\n",
              "}\n",
              "\n",
              "scope.google = scope.google || {};\n",
              "scope.google.colab = scope.google.colab || {};\n",
              "scope.google.colab._files = {\n",
              "  _uploadFiles,\n",
              "  _uploadFilesContinue,\n",
              "};\n",
              "})(self);\n",
              "</script> "
            ]
          },
          "metadata": {}
        }
      ]
    },
    {
      "cell_type": "code",
      "source": [
        "!pip install -q git+https://github.com/openai/whisper.git\n",
        "!apt-get install -y ffmpeg\n"
      ],
      "metadata": {
        "id": "lq1Pn9AORf-N"
      },
      "execution_count": null,
      "outputs": []
    },
    {
      "cell_type": "code",
      "source": [
        "!pip install -U openai-whisper\n"
      ],
      "metadata": {
        "id": "blYs8B1lrTVq"
      },
      "execution_count": null,
      "outputs": []
    },
    {
      "cell_type": "code",
      "source": [
        "!pip install -U openai-whisper yt-dlp ffmpeg\n",
        "!yt-dlp -x --audio-format mp3 \"https://soundcloud.com/peacefulmusicofficial/background-music-305574542\""
      ],
      "metadata": {
        "id": "xNifhlizsll4"
      },
      "execution_count": null,
      "outputs": []
    },
    {
      "cell_type": "markdown",
      "source": [
        "TO detect fraud audio\n"
      ],
      "metadata": {
        "id": "oeMmGD8HPxgK"
      }
    },
    {
      "cell_type": "code",
      "source": [
        "\n",
        "import whisper\n",
        "\n",
        "model = whisper.load_model(\"base\")\n",
        "result = model.transcribe(\"Background Music [1464841855].mp3\")\n",
        "print(\"📝 Transcript:\", result['text'])\n",
        "\n"
      ],
      "metadata": {
        "id": "QabaOQ1wT6FY"
      },
      "execution_count": null,
      "outputs": []
    },
    {
      "cell_type": "code",
      "source": [
        "import requests\n",
        "\n",
        "response = requests.get(url)\n",
        "print(response.headers.get(\"Content-Type\"))\n"
      ],
      "metadata": {
        "id": "CKsRnC_lr1Iv"
      },
      "execution_count": null,
      "outputs": []
    },
    {
      "cell_type": "code",
      "source": [
        "!pip install -U yt-dlp\n",
        "!yt-dlp -f bestvideo+bestaudio --merge-output-format mp4 https://www.youtube.com/watch?v=UfcAVejslrU\n"
      ],
      "metadata": {
        "id": "OU6Hi58Evvsd"
      },
      "execution_count": null,
      "outputs": []
    },
    {
      "cell_type": "markdown",
      "source": [
        "TO fraud audio detection"
      ],
      "metadata": {
        "id": "VBb72VZVQNUJ"
      }
    },
    {
      "cell_type": "code",
      "source": [
        "\n",
        "from moviepy.editor import VideoFileClip\n",
        "import cv2\n",
        "\n",
        "# Load video\n",
        "clip = VideoFileClip(\"Marconi Union - Weightless (Official Video) [UfcAVejslrU].mp4\")\n",
        "\n",
        "# Extract audio\n",
        "clip.audio.write_audiofile(\"extracted_audio.wav\")\n",
        "\n",
        "# Extract frames\n",
        "vidcap = cv2.VideoCapture(\"Marconi Union - Weightless (Official Video) [UfcAVejslrU].mp4\")\n",
        "success, image = vidcap.read()\n",
        "count = 0\n",
        "while success:\n",
        "    cv2.imwrite(f\"frame{count}.jpg\", image)\n",
        "    success, image = vidcap.read()\n",
        "    count += 1\n",
        "\n"
      ],
      "metadata": {
        "id": "8_MG_TsNQJcG"
      },
      "execution_count": null,
      "outputs": []
    },
    {
      "cell_type": "code",
      "source": [
        "# Simulated credential registry\n",
        "verified_advisors = {\n",
        "    \"0x123abc\": {\"name\": \"Ravi Kumar\", \"license\": \"SEBI123\", \"status\": \"Verified\"},\n",
        "    \"0x456def\": {\"name\": \"Anjali Mehta\", \"license\": \"SEBI456\", \"status\": \"Verified\"}\n",
        "}\n",
        "\n",
        "def verify_advisor(wallet_address):\n",
        "    return verified_advisors.get(wallet_address, {\"status\": \"Unverified\"})\n",
        "\n",
        "print(verify_advisor(\"0x123abc\"))\n"
      ],
      "metadata": {
        "id": "1KdqvRdkQnbL"
      },
      "execution_count": null,
      "outputs": []
    },
    {
      "cell_type": "code",
      "source": [
        "reviews = [\n",
        "    \"He gave misleading advice and vanished.\",\n",
        "    \"Very professional and transparent.\",\n",
        "    \"Promised high returns but failed to deliver.\"\n",
        "]\n",
        "\n",
        "review_scores = [classifier(review)[0] for review in reviews]\n",
        "for r, s in zip(reviews, review_scores):\n",
        "    print(f\"Review: {r}\\n→ Sentiment: {s['label']}, Score: {s['score']:.2f}\\n\")\n"
      ],
      "metadata": {
        "id": "7a3g6h9PQRaz"
      },
      "execution_count": null,
      "outputs": []
    },
    {
      "cell_type": "markdown",
      "source": [
        "analyze the tone of financial text"
      ],
      "metadata": {
        "id": "ueWxBZfiQgQM"
      }
    },
    {
      "cell_type": "code",
      "source": [
        "!pip install -q transformers\n",
        "\n",
        "from transformers import AutoTokenizer, AutoModelForSequenceClassification\n",
        "import torch\n",
        "\n",
        "tokenizer = AutoTokenizer.from_pretrained(\"yiyanghkust/finbert-tone\")\n",
        "model = AutoModelForSequenceClassification.from_pretrained(\"yiyanghkust/finbert-tone\")\n",
        "\n",
        "def classify_financial_text(text):\n",
        "    inputs = tokenizer(text, return_tensors=\"pt\")\n",
        "    outputs = model(**inputs)\n",
        "    probs = torch.nn.functional.softmax(outputs.logits, dim=-1)\n",
        "    labels = [\"positive\", \"negative\", \"neutral\"]\n",
        "    return dict(zip(labels, probs[0].tolist()))\n",
        "\n",
        "print(classify_financial_text(\"This stock is going to explode tomorrow!\"))\n"
      ],
      "metadata": {
        "id": "HsbZ9NNbQvs2"
      },
      "execution_count": null,
      "outputs": []
    },
    {
      "cell_type": "markdown",
      "source": [
        "simple anomaly detection prototype"
      ],
      "metadata": {
        "id": "WR5rOqTaQqtn"
      }
    },
    {
      "cell_type": "code",
      "source": [
        "from sklearn.ensemble import IsolationForest\n",
        "import numpy as np\n",
        "\n",
        "# Simulated stock volume spikes\n",
        "volume_data = np.array([[100], [105], [110], [500], [120], [130]])\n",
        "model = IsolationForest(contamination=0.2)\n",
        "model.fit(volume_data)\n",
        "preds = model.predict(volume_data)\n",
        "\n",
        "print(\"Anomaly Flags:\", preds)  # -1 = anomaly\n"
      ],
      "metadata": {
        "id": "1JJttOXDQwB_"
      },
      "execution_count": null,
      "outputs": []
    },
    {
      "cell_type": "markdown",
      "source": [
        "Named Entity Recognition"
      ],
      "metadata": {
        "id": "6dFLkk-SQ5nT"
      }
    },
    {
      "cell_type": "code",
      "source": [
        "!pip install -q spacy\n",
        "!python -m spacy download en_core_web_sm\n",
        "\n",
        "import spacy\n",
        "nlp = spacy.load(\"en_core_web_sm\")\n",
        "\n",
        "text = \"The company announced audited earnings and a merger with XYZ Corp.\"\n",
        "doc = nlp(text)\n",
        "print(\"Named Entities:\")\n",
        "for ent in doc.ents:\n",
        "    print(ent.text, ent.label_)\n"
      ],
      "metadata": {
        "id": "xw90DH3oQyQl"
      },
      "execution_count": null,
      "outputs": []
    },
    {
      "cell_type": "markdown",
      "source": [
        "credibility score to financial text using trusted keywords as a quick heuristic for fraud detection."
      ],
      "metadata": {
        "id": "jSDqyYe0RP1k"
      }
    },
    {
      "cell_type": "code",
      "source": [
        "def credibility_score(text):\n",
        "    trusted_terms = ['audited', 'SEBI', 'filing', 'official', 'verified']\n",
        "    score = sum(term in text.lower() for term in trusted_terms) * 20\n",
        "    return min(score, 100)\n",
        "\n",
        "announcement = \"Company filing submitted to SEBI with audited results.\"\n",
        "print(\"Credibility Score:\", credibility_score(announcement))\n"
      ],
      "metadata": {
        "id": "rWY0oM6OQyUB"
      },
      "execution_count": null,
      "outputs": []
    },
    {
      "cell_type": "code",
      "source": [
        "!pip install transformers openai torch torchvision faiss-cpu numpy pandas scikit-learn seaborn matplotlib opencv-python librosa\n"
      ],
      "metadata": {
        "id": "04INDwo9QyXY"
      },
      "execution_count": null,
      "outputs": []
    },
    {
      "cell_type": "markdown",
      "source": [
        "detect spam or scam-like messages"
      ],
      "metadata": {
        "id": "Nuyc_TJtRfJX"
      }
    },
    {
      "cell_type": "code",
      "source": [
        "from transformers import pipeline\n",
        "\n",
        "# Load BERT-based classifier (fine-tuned on spam / investment scams if available)\n",
        "classifier = pipeline(\"text-classification\", model=\"mrm8488/bert-tiny-finetuned-sms-spam-detection\")\n",
        "\n",
        "def scan_message(text):\n",
        "    result = classifier(text)\n",
        "    return result\n"
      ],
      "metadata": {
        "id": "vAW4CptXm6Lw"
      },
      "execution_count": null,
      "outputs": []
    },
    {
      "cell_type": "code",
      "source": [
        "text = \"Invest ₹5,000 now and get 2x return from this IPO. SEBI approved!\"\n",
        "print(scan_message(text))\n"
      ],
      "metadata": {
        "id": "zFw9519Hm59t"
      },
      "execution_count": null,
      "outputs": []
    },
    {
      "cell_type": "markdown",
      "source": [
        "detecting logo impersonation"
      ],
      "metadata": {
        "id": "uI9InYXIRznX"
      }
    },
    {
      "cell_type": "code",
      "source": [
        "import cv2\n",
        "import numpy as np\n",
        "from sklearn.metrics.pairwise import cosine_similarity\n",
        "\n",
        "def compare_logos(user_logo_path, trusted_logo_path):\n",
        "    # Load logos in grayscale\n",
        "    user = cv2.imread(user_logo_path, 0)\n",
        "    trusted = cv2.imread(trusted_logo_path, 0)\n",
        "\n",
        "    # Check if images loaded correctly\n",
        "    if user is None or trusted is None:\n",
        "        print(\"❌ One or both image paths are invalid.\")\n",
        "        return None\n",
        "\n",
        "    # Resize and flatten\n",
        "    user = cv2.resize(user, (100, 100)).flatten().reshape(1, -1)\n",
        "    trusted = cv2.resize(trusted, (100, 100)).flatten().reshape(1, -1)\n",
        "\n",
        "    # Compare via cosine similarity\n",
        "    similarity = cosine_similarity(user, trusted)[0][0]\n",
        "    print(f\"🔍 Similarity Score: {similarity:.2f}\")\n",
        "    return similarity > 0.85  # Threshold\n",
        "\n",
        "# Example usage\n",
        "result = compare_logos(\"user_logo.png\", \"trusted_logo.png\")\n",
        "if result is None:\n",
        "    print(\"⚠️ Comparison failed due to missing image.\")\n",
        "elif result:\n",
        "    print(\"✅ Logos match. Trusted source.\")\n",
        "else:\n",
        "    print(\"❌ Logos do not match. Possible impersonation.\")\n"
      ],
      "metadata": {
        "id": "ZHDya5pQnH3y"
      },
      "execution_count": null,
      "outputs": []
    },
    {
      "cell_type": "markdown",
      "source": [
        "SEBI-registered financial advisors"
      ],
      "metadata": {
        "id": "SAqNRiqkR_nf"
      }
    },
    {
      "cell_type": "code",
      "source": [
        "def check_advisor_name(text):\n",
        "    sebi_advisors = [\"Ramesh Gupta\", \"InvestGrow Capital\", \"SafeInvest Advisors\"]\n",
        "    for name in sebi_advisors:\n",
        "        if name.lower() in text.lower():\n",
        "            return f\"{name} is a SEBI-registered advisor ✅\"\n",
        "    return \"Advisor not found in SEBI registry ❌\"\n",
        "\n",
        "# Example usage\n",
        "sample_text = \"I received a call from InvestGrow Capital promising guaranteed returns.\"\n",
        "result = check_advisor_name(sample_text)\n",
        "print(\"🔍 Advisor Check Result:\", result)\n"
      ],
      "metadata": {
        "id": "LdjYka41nLFT"
      },
      "execution_count": null,
      "outputs": []
    },
    {
      "cell_type": "code",
      "source": [
        "check_advisor_name(\"I was contacted by Ramesh Gupta for IPO investment.\")\n"
      ],
      "metadata": {
        "id": "uBrgh_h_nLB9"
      },
      "execution_count": null,
      "outputs": []
    },
    {
      "cell_type": "markdown",
      "source": [
        "Spam Detection by Transaction ID\n",
        "\n"
      ],
      "metadata": {
        "id": "FueP4dYwSbGx"
      }
    },
    {
      "cell_type": "code",
      "source": [
        "from sklearn.feature_extraction.text import TfidfVectorizer\n",
        "from sklearn.linear_model import LogisticRegression\n",
        "\n",
        "# Sample training data (replace with real transaction IDs and labels)\n",
        "transaction_ids = [\n",
        "    \"TXN123456789\",       # Legitimate\n",
        "    \"TXN987654321\",       # Legitimate\n",
        "    \"WINFREEIPHONE123\",   # Spam\n",
        "    \"CLAIMCASHNOW456\",    # Spam\n",
        "    \"TXN000111222\",       # Legitimate\n",
        "    \"GETRICHFAST999\",     # Spam\n",
        "]\n",
        "labels = [0, 0, 1, 1, 0, 1]  # 0 = not spam, 1 = spam\n",
        "\n",
        "# Character-level TF-IDF vectorizer\n",
        "vectorizer = TfidfVectorizer(analyzer='char', ngram_range=(2, 4))\n",
        "X = vectorizer.fit_transform(transaction_ids)\n",
        "\n",
        "# Train classifier\n",
        "model = LogisticRegression()\n",
        "model.fit(X, labels)\n",
        "\n",
        "# Prediction function\n",
        "def detect_spam(txn_id):\n",
        "    vec = vectorizer.transform([txn_id])\n",
        "    prob = model.predict_proba(vec)[0][1]\n",
        "    label = \"Spam ❌\" if prob > 0.5 else \"Legitimate ✅\"\n",
        "    print(f\"🔍 Transaction ID: {txn_id}\\n→ Prediction: {label} (Confidence: {prob:.2f})\")\n",
        "    return label\n",
        "\n",
        "# Example usage\n",
        "detect_spam(\"CLAIMCASHNOW456\")\n",
        "detect_spam(\"TXN123456789\")\n",
        "\n"
      ],
      "metadata": {
        "id": "3Tz-8JVknK8l"
      },
      "execution_count": null,
      "outputs": []
    },
    {
      "cell_type": "code",
      "source": [
        "import pandas as pd\n",
        "import numpy as np\n",
        "import matplotlib.pyplot as plt\n",
        "\n",
        "def detect_price_spike(prices):\n",
        "    diff = np.diff(prices)\n",
        "    std_dev = np.std(diff)\n",
        "    spikes = np.where(diff > 2 * std_dev)[0]\n",
        "    return spikes\n"
      ],
      "metadata": {
        "id": "-vIGK4mtnKzp"
      },
      "execution_count": null,
      "outputs": []
    },
    {
      "cell_type": "code",
      "source": [
        "prices = [100, 102, 103, 150, 152, 155]  # Sudden jump at 3\n",
        "print(\"Spike at indices:\", detect_price_spike(prices))\n"
      ],
      "metadata": {
        "id": "WEXKj5vDncWO"
      },
      "execution_count": null,
      "outputs": []
    },
    {
      "cell_type": "markdown",
      "source": [
        "detect potentially scammy financial apps"
      ],
      "metadata": {
        "id": "kBdUtAjFTu-A"
      }
    },
    {
      "cell_type": "code",
      "source": [
        "import re\n",
        "from sklearn.feature_extraction.text import TfidfVectorizer\n",
        "from sklearn.linear_model import LogisticRegression\n",
        "\n",
        "# Sample app metadata (name, description)\n",
        "apps = [\n",
        "    {\"name\": \"TradePro+\", \"desc\": \"Guaranteed 200% returns with AI trading\"},\n",
        "    {\"name\": \"GrowX\", \"desc\": \"Trusted platform for mutual funds\"},\n",
        "    {\"name\": \"StockWizard\", \"desc\": \"Get insider tips and daily gains\"}\n",
        "]\n",
        "\n",
        "# Training data (simplified)\n",
        "texts = [\n",
        "    \"Guaranteed returns\", \"Insider tips\", \"Fake trading\", \"Trusted platform\", \"SEBI registered\"\n",
        "]\n",
        "labels = [1, 1, 1, 0, 0]  # 1 = scam, 0 = legit\n",
        "\n",
        "# Train simple classifier\n",
        "vectorizer = TfidfVectorizer()\n",
        "X = vectorizer.fit_transform(texts)\n",
        "clf = LogisticRegression().fit(X, labels)\n",
        "\n",
        "# Scan apps\n",
        "for app in apps:\n",
        "    x_app = vectorizer.transform([app[\"desc\"]])\n",
        "    pred = clf.predict(x_app)[0]\n",
        "    if pred == 1:\n",
        "        print(f\"⚠️ Scam app detected: {app['name']} – removing...\")\n",
        "    else:\n",
        "        print(f\"✅ Safe app: {app['name']}\")\n"
      ],
      "metadata": {
        "id": "qwthyVbjncS0"
      },
      "execution_count": null,
      "outputs": []
    },
    {
      "cell_type": "code",
      "source": [],
      "metadata": {
        "id": "EaVZPgPJj79m"
      },
      "execution_count": null,
      "outputs": []
    }
  ],
  "metadata": {
    "colab": {
      "provenance": [],
      "authorship_tag": "ABX9TyP//fQdGRsANuDGmInxnGwh",
      "include_colab_link": true
    },
    "kernelspec": {
      "display_name": "Python 3",
      "name": "python3"
    },
    "language_info": {
      "name": "python"
    }
  },
  "nbformat": 4,
  "nbformat_minor": 0
}